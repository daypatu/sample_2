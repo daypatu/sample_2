  {
   "cell_type": "markdown",
   "metadata": {},
   "source": [
    "Гиперплоскости"
   ]
  },
  {
   "cell_type": "code",
   "execution_count": 3,
   "metadata": {},
   "outputs": [],
   "source": [
    "import numpy as np\n",
    "import scipy as sp"
   ]
  },
  {
   "cell_type": "markdown",
   "metadata": {},
   "source": [
    "#### Восстановление функции Вигнера"
   ]
  },
  {
   "cell_type": "markdown",
   "metadata": {},
   "source": [
    "Размерность конечного пространства $M$.\n",
    "\n",
    "Дано: $M$ тензоров ранга 0, 1,..., M-1, каждый задаёт значения томограммы относительно плоскостей\n",
    "$$1,\\ \\underbrace{0,...,\\ 0}_{M-1\\ times}$$\n",
    "$$k_{M-1},\\ 1,\\ \\underbrace{0,...,\\ 0}_{M-2\\ times}$$\n",
    "$$...$$\n",
    "$$k_{M-1},\\ k_{M-2},...,\\ k_{1},\\ 1$$\n",
    "\n",
    "Иными словами имеем функции\n",
    "\n",
    "$$w_{M-1},\\ w_{M-1}(k_{M-1}),\\ w_{M-1}(k_{M-1},\\ k_{M-2}),...,\\ w_{M-1}(k_{M-1},...,\\ k_1)$$\n",
    "\n",
    "Всего\n",
    "$$(p^{M-1} + p^{M-2} +... +p + 1)\\cdot p = \\left(\\frac{p^{M} - 1}{p-1}\\right)\\cdot p$$\n",
    "плоскостей"
   ]
  },
  {
   "cell_type": "markdown",
   "metadata": {},
   "source": [
    "Шаг 1: Найти значения $w(\\Omega^{(M-2)})$ для плоскостей размерности $M-2$, лежащих в $1,\\ \\underbrace{0,...,\\ 0}_{M\\ times}$.\n",
    "\n",
    "В наших обозначениях ищем тензора рангов 0, 1,..., M-2\n",
    "\n",
    "$$w_{M-2},\\ w_{M-2}(k_{M-2}),\\ w_{M-1}(k_{M-2},\\ k_{M-3}),...,\\ w_{M-1}(k_{M-2},...,\\ k_1)$$\n",
    "\n",
    "Утверждаем, что\n",
    "\n",
    "$$w_{M-2}(k_{M-2},...,\\ k_1) = \\frac{1}{p}\\left(\\underbrace{\\sum_{k_{M-1}=0}^{p-1}w_{M-1}(k_{M-1},\\ k_{M-2},...,\\ k_1) + w_{M-1}}_{contain\\ chosen\\ (M-2)-flat} + w_{M-2}\\right)$$\n",
    "$$...$$\n",
    "$$w_{M-2}(k_{M-2},\\ k_{M-3}) = \\frac{1}{p}\\left(\\underbrace{\\sum_{k_{M-1}=0}^{p-1}w_{M-1}(k_{M-1},\\ k_{M-2},\\ k_{M-3}) + w_{M-1}}_{contain\\ chosen\\ (M-2)-flat} + w_{M-2}\\right)$$\n",
    "$$...$$\n",
    "$$w_{M-2} = \\frac{1}{p}\\left(\\underbrace{\\sum_{k_{M-1}=0}^{p-1}w_{M-1}(k_{M-1}) + w_{M-1}}_{contain\\ chosen\\ (M-2)-flat} + w_{M-2}\\right)$$\n",
    "\n",
    "Далее повторяем эту процедуру, пока не останется только тензор нулевого ранга $w_0$, он и есть ответ"
   ]
  },
  {
   "cell_type": "markdown",
   "metadata": {},
   "source": [
    "$$W_{\\vec x}\\cdot\\delta_{\\vec x,\\vec\\gamma,\\kappa} = w_{\\vec\\gamma,\\kappa}$$"
   ]
  },
  {
   "cell_type": "code",
   "execution_count": 99,
   "metadata": {},
   "outputs": [],
   "source": [
    "def wigner_to_tomogram(wigner):\n",
    "    M = len(wigner.shape)\n",
    "    prime = wigner.shape[0]\n",
    "    delta = np.zeros((prime,)*(2*M+1))\n",
    "    # print(M,prime)\n",
    "    it = np.nditer(delta, flags=['multi_index'])\n",
    "    while not it.finished:\n",
    "        y = np.array(it.multi_index)\n",
    "        if y[:M].dot(y[M: 2 * M]) % prime == y[-1]:\n",
    "            delta[it.multi_index] = 1\n",
    "        it.iternext()\n",
    "    # print(delta)\n",
    "    return np.tensordot(wigner, delta, axes=(list(range(M)), list(range(M))))"
   ]
  },
  {
   "cell_type": "markdown",
   "metadata": {},
   "source": [
    "$$w_{\\vec\\gamma} = w_{\\vec\\gamma,\\vec\\gamma\\cdot\\vec x}$$\n",
    "$$\\vec\\gamma = k_{M-1},\\ k_{M-2},...,\\ k_1,\\ 1$$\n",
    "...\n",
    "$$\\vec\\gamma = k_{M-1},\\ 1,\\ \\underbrace{0,...,\\ 0}_{M-2}$$\n",
    "$$\\vec\\gamma = 1,\\ \\underbrace{0,...,\\ 0}_{M-1}$$"
   ]
  },
  {
   "cell_type": "code",
   "execution_count": 125,
   "metadata": {},
   "outputs": [],
   "source": [
    "def tomogram_to_bunch_of_tensors(x, tomogram):\n",
    "    M = len(tomogram.shape) - 1\n",
    "    prime = tomogram.shape[0]\n",
    "    initial_index = (1,) + (0,) * (M - 1) + (x[0],)\n",
    "    # print(initial_index)\n",
    "    bunch_of_tensors = [tomogram[initial_index]]\n",
    "    for i in range(1, M):\n",
    "        tensor = np.zeros((prime,) * i)\n",
    "        it = np.nditer(tensor, flags=['multi_index'])\n",
    "        while not it.finished:\n",
    "            index = it.multi_index + (1,) + (0,) * (M - i - 1)\n",
    "            tensor[it.multi_index] = tomogram[index + (np.array(index).dot(x) % prime,)]\n",
    "            it.iternext()\n",
    "        bunch_of_tensors.append(tensor)   \n",
    "    return bunch_of_tensors"
   ]
  },
  {
   "cell_type": "code",
   "execution_count": 126,
   "metadata": {},
   "outputs": [],
   "source": [
    "def iterate(prime, bunch_of_tensors, space_norm=1):\n",
    "    while len(bunch_of_tensors) > 1:\n",
    "        new_bunch = []\n",
    "        for tensor in bunch_of_tensors[1:]:\n",
    "            new_tensor = tensor.sum(axis=0) + bunch_of_tensors[0] - space_norm\n",
    "            new_bunch.append(new_tensor / prime)\n",
    "        space_norm = bunch_of_tensors[0]\n",
    "        bunch_of_tensors = new_bunch\n",
    "    return bunch_of_tensors[0]"
   ]
  },
  {
   "cell_type": "code",
   "execution_count": 127,
   "metadata": {},
   "outputs": [],
   "source": [
    "def restore_wigner(prime, x, tomogram):\n",
    "    bunch_of_tensors = tomogram_to_bunch_of_tensors(x, tomogram)\n",
    "    # print(bunch_of_tensors)\n",
    "    return iterate(prime, bunch_of_tensors)"
   ]
  },
  {
   "cell_type": "markdown",
   "metadata": {},
   "source": [
    "Проверка на обычном кубите"
   ]
  },
  {
   "cell_type": "code",
   "execution_count": 103,
   "metadata": {},
   "outputs": [],
   "source": [
    "wigner = np.array([[0.394, 0.394], [-0.182, 0.394]])"
   ]
  },
  {
   "cell_type": "code",
   "execution_count": 104,
   "metadata": {},
   "outputs": [],
   "source": [
    "tomogram = wigner_to_tomogram(wigner)"
   ]
  },
  {
   "cell_type": "code",
   "execution_count": 105,
   "metadata": {},
   "outputs": [
    {
     "data": {
      "text/plain": [
       "array([[ 0.394,  0.394],\n",
       "       [-0.182,  0.394]])"
      ]
     },
     "execution_count": 105,
     "metadata": {},
     "output_type": "execute_result"
    }
   ],
   "source": [
    "wigner"
   ]
  },
  {
   "cell_type": "code",
   "execution_count": 106,
   "metadata": {},
   "outputs": [
    {
     "data": {
      "text/plain": [
       "array([[[1.   , 0.   ],\n",
       "        [0.212, 0.788]],\n",
       "\n",
       "       [[0.788, 0.212],\n",
       "        [0.788, 0.212]]])"
      ]
     },
     "execution_count": 106,
     "metadata": {},
     "output_type": "execute_result"
    }
   ],
   "source": [
    "tomogram"
   ]
  },
  {
   "cell_type": "code",
   "execution_count": 107,
   "metadata": {},
   "outputs": [
    {
     "name": "stdout",
     "output_type": "stream",
     "text": [
      "[0.788, array([0.212, 0.788])]\n"
     ]
    }
   ],
   "source": [
    "print(tomogram_to_bunch_of_tensors(np.array([0,0]), tomogram))"
   ]
  },
  {
   "cell_type": "code",
   "execution_count": 111,
   "metadata": {},
   "outputs": [
    {
     "data": {
      "text/plain": [
       "-0.18199999999999994"
      ]
     },
     "execution_count": 111,
     "metadata": {},
     "output_type": "execute_result"
    }
   ],
   "source": [
    "restore_wigner(2, np.array([1,0]), tomogram)"
   ]
  },
  {
   "cell_type": "markdown",
   "metadata": {},
   "source": [
    "Проверка двухкубитового состояния"
   ]
  },
  {
   "cell_type": "code",
   "execution_count": 112,
   "metadata": {},
   "outputs": [],
   "source": [
    "big_wigner = np.zeros((2,2,2,2))\n",
    "for i in range(2):\n",
    "    for j in range(2):\n",
    "        big_wigner[i,j] = wigner[i,j] * wigner"
   ]
  },
  {
   "cell_type": "code",
   "execution_count": 113,
   "metadata": {},
   "outputs": [
    {
     "data": {
      "text/plain": [
       "array([[[[ 0.155236,  0.155236],\n",
       "         [-0.071708,  0.155236]],\n",
       "\n",
       "        [[ 0.155236,  0.155236],\n",
       "         [-0.071708,  0.155236]]],\n",
       "\n",
       "\n",
       "       [[[-0.071708, -0.071708],\n",
       "         [ 0.033124, -0.071708]],\n",
       "\n",
       "        [[ 0.155236,  0.155236],\n",
       "         [-0.071708,  0.155236]]]])"
      ]
     },
     "execution_count": 113,
     "metadata": {},
     "output_type": "execute_result"
    }
   ],
   "source": [
    "big_wigner"
   ]
  },
  {
   "cell_type": "code",
   "execution_count": 115,
   "metadata": {},
   "outputs": [],
   "source": [
    "big_tomogram = wigner_to_tomogram(big_wigner)"
   ]
  },
  {
   "cell_type": "code",
   "execution_count": 133,
   "metadata": {},
   "outputs": [
    {
     "data": {
      "text/plain": [
       "-0.071708"
      ]
     },
     "execution_count": 133,
     "metadata": {},
     "output_type": "execute_result"
    }
   ],
   "source": [
    "restore_wigner(2, np.array([1,0,1,1]), big_tomogram)"
   ]
  },
  {
   "cell_type": "code",
   "execution_count": null,
   "metadata": {},
   "outputs": [],
   "source": []
  }
 ],
 "metadata": {
  "kernelspec": {
   "display_name": "Python 3",
   "language": "python",
   "name": "python3"
  },
  "language_info": {
   "codemirror_mode": {
    "name": "ipython",
    "version": 3
   },
   "file_extension": ".py",
   "mimetype": "text/x-python",
   "name": "python",
   "nbconvert_exporter": "python",
   "pygments_lexer": "ipython3",
   "version": "3.6.2"
  }
 },
 "nbformat": 4,
 "nbformat_minor": 2
}
